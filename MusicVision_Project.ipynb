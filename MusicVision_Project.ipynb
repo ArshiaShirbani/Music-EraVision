{
  "nbformat": 4,
  "nbformat_minor": 0,
  "metadata": {
    "colab": {
      "provenance": []
    },
    "kernelspec": {
      "name": "python3",
      "display_name": "Python 3"
    },
    "language_info": {
      "name": "python"
    }
  },
  "cells": [
    {
      "cell_type": "markdown",
      "source": [
        "# Music EraVision Project\n",
        "\n",
        "This is the main notebook for the project, for better organisation, some works may be distributed to other notebooks\n",
        "\n",
        "**[Project Proposal (doc)](https://docs.google.com/document/d/18nn9EhyI30I4q3iTyIT4GuKg6-9z-faYBYg8ePTUNnk/edit)**\n",
        "\n",
        "**[Baseline Model and Architecture (notebook)](https://colab.research.google.com/drive/1UnPkcqOLs4zmPY6J9ILCXLSTz_Hxh-3R?usp=sharing#scrollTo=s5Am2Yh-v3rL&uniqifier=1)**\n",
        "\n",
        "**[Progress Report (doc)](https://docs.google.com/document/d/13v7tNJTBSaFAYJj9XBCxnyHQCrv3dUxJmOdWJS0dZh0/edit)**\n",
        "\n",
        "**[Final Report (doc)](https://docs.google.com/document/d/16aoUeV4GjzB4BlyNvsru4JKRD_4zT91upqDTDbSGUEU/edit)**\n",
        "\n",
        "\n",
        "## Primary Models\n",
        "\n",
        "There are two notebooks for primary models, one collecting models accepting each work (multiple pages) as a single entry, and the other collecting models accepting single pages\n",
        "\n",
        "**[Multi Page Primary Models](https://colab.research.google.com/drive/1jf7cWO2bBseN45e3HdGibLk0enSC0Su2?usp=sharing)**\n",
        "\n",
        "**[Single Page Primary Models](https://colab.research.google.com/drive/1VfGZYi8flSXvWwY0_TmPTnwaGYsYief4?usp=sharing)**\n",
        "\n",
        "Structured specifically for testing:\n",
        "\n",
        "**[Final Testing Notebook](https://colab.research.google.com/drive/1Ndl5gdOjFMf-X6Phm-pbFTNwHhyVdx92?usp=sharing)**\n",
        "\n",
        "\n",
        "### Deprecated models\n",
        "\n",
        "~~[Primary Model v1 (notebook)](https://colab.research.google.com/drive/1KYIv8yOqqrGNGU2V-InlORH4myL2Zlgs)~~\n",
        "\n",
        "~~[Primary Model Multi-Page Working (notebook)](https://colab.research.google.com/drive/1giVRKk_3mskZJn-HY6iRIht2HfGdaBc2?usp=sharing)~~\n",
        "\n",
        "\n",
        "### Transfer Learning Embedding Generator\n",
        "\n",
        "Uses ResNet to generate embeddings for each page\n",
        "\n",
        "**[Transfer Learning](https://colab.research.google.com/drive/1Jb3Re2SKfAwCUOsFQe5FLApoLbU7JESB?usp=sharing)**\n",
        "\n"
      ],
      "metadata": {
        "id": "2MHOhz0f9aw1"
      }
    },
    {
      "cell_type": "code",
      "source": [
        "print(\"Helloworld\")"
      ],
      "metadata": {
        "id": "ASNFXowN-GMz"
      },
      "execution_count": null,
      "outputs": []
    }
  ]
}